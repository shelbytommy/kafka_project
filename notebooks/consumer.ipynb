{
 "cells": [
  {
   "cell_type": "code",
   "execution_count": null,
   "id": "200ab6ab-91ea-43a8-8694-e55366143364",
   "metadata": {},
   "outputs": [],
   "source": [
    "import logging\n",
    "from typing import List\n",
    "\n",
    "import json\n",
    "import pandas as pd\n",
    "import matplotlib\n",
    "import matplotlib.pyplot as plt\n",
    "\n",
    "from confluent_kafka import Consumer, KafkaError, KafkaException\n"
   ]
  },
  {
   "cell_type": "code",
   "execution_count": null,
   "id": "2c9348f9-92e1-4002-87fc-35c91b11b664",
   "metadata": {},
   "outputs": [],
   "source": [
    "import warnings\n",
    "warnings.filterwarnings('ignore')\n"
   ]
  },
  {
   "cell_type": "markdown",
   "id": "6926a8ad-6a29-402e-b862-9cc384c98e6f",
   "metadata": {},
   "source": [
    "# Consume events"
   ]
  },
  {
   "cell_type": "code",
   "execution_count": null,
   "id": "8fcdbc61-101e-4c9c-b69e-08146de9341d",
   "metadata": {},
   "outputs": [],
   "source": [
    "logging.basicConfig(level=logging.INFO, format='%(asctime)s - %(name)s - %(levelname)s - %(message)s')\n",
    "logger = logging.getLogger(__name__)\n",
    "\n",
    "kafka_config = {\n",
    "    'bootstrap.servers': 'MBP-tommy:9092', \n",
    "    'group.id': 'data_quality_group',\n",
    "    'auto.offset.reset': 'earliest'\n",
    "}\n",
    "topic = 'water_quality_data'\n"
   ]
  },
  {
   "cell_type": "code",
   "execution_count": null,
   "id": "80e87ae3-e0f7-4396-8821-a582f127dbe9",
   "metadata": {},
   "outputs": [],
   "source": [
    "cols_agg = ['CountryCode', 'observedPropertyDeterminandBiologyEQRCode',\n",
    "       'parameterWaterBodyCategory', 'parameterNCSWaterBodyType',\n",
    "       'parameterWFDIntercalibrationWaterBodyType', 'parameterNaturalAWBHMWB',\n",
    "       'parameterICStatusOfDeterminandBiologyEQR',\n",
    "       'parameterBoundaryValueClasses12', 'parameterBoundaryValueClasses23',\n",
    "       'parameterBoundaryValueClasses34', 'parameterBoundaryValueClasses45',\n",
    "       'procedureBiologicalAnalyticalMethodDescription',\n",
    "       'resultObservationStatus', 'Remarks', 'metadata_versionId',\n",
    "       'metadata_beginLifeSpanVersion', 'metadata_statusCode',\n",
    "       'metadata_observationStatus', 'metadata_statements', 'UID']\n",
    "\n",
    "data_df = pd.DataFrame(columns=cols_agg)\n"
   ]
  },
  {
   "cell_type": "code",
   "execution_count": null,
   "id": "79fcd55f-fb9a-40c0-a66b-a953d73adddf",
   "metadata": {},
   "outputs": [],
   "source": [
    "cols_eqr = ['monitoringSiteIdentifier', 'monitoringSiteIdentifierScheme',\n",
    "       'parameterWaterBodyCategory', 'parameterNCSWaterBodyType',\n",
    "       'observedPropertyDeterminandBiologyEQRCode',\n",
    "       'phenomenonTimeReferenceYear', 'parameterSamplingPeriod',\n",
    "       'resultEcologicalStatusClassValue', 'resultNumberOfSamples',\n",
    "       'resultEQRValue', 'resultNormalisedEQRValue', 'resultObservationStatus',\n",
    "       'Remarks', 'metadata_versionId', 'metadata_beginLifeSpanVersion',\n",
    "       'metadata_statusCode', 'metadata_observationStatus',\n",
    "       'metadata_statements', 'UID']\n",
    "\n",
    "data_df = pd.DataFrame(columns=cols_eqr)\n"
   ]
  },
  {
   "cell_type": "code",
   "execution_count": null,
   "id": "a513ea31-fb9f-41d3-b5f5-e88d367f7f2b",
   "metadata": {},
   "outputs": [],
   "source": [
    "def consume_messages():\n",
    "    try:\n",
    "        consumer = Consumer(kafka_config)\n",
    "        consumer.subscribe([topic])\n",
    "\n",
    "        while True:\n",
    "            message = consumer.poll(1.0)\n",
    "\n",
    "            if message is None:\n",
    "                continue\n",
    "\n",
    "            if message.error():\n",
    "                if message.error().code() == KafkaError._PARTITION_EOF:\n",
    "                    continue\n",
    "                else:\n",
    "                    logger.error(\"Error while consuming: %s\", message.error())\n",
    "                    break\n",
    "\n",
    "            key = message.key()\n",
    "            value = message.value()\n",
    "\n",
    "            try:\n",
    "                data_dict = json.loads(value)\n",
    "                yield data_dict\n",
    "            except json.JSONDecodeError as e:\n",
    "                logger.error(f\"Error decoding JSON: {e}\")\n",
    "                continue\n",
    "            \n",
    "    except KafkaException as e:\n",
    "        logger.error(\"Kafka error: %s\", e)\n",
    "    finally:\n",
    "        consumer.close()\n"
   ]
  },
  {
   "cell_type": "code",
   "execution_count": null,
   "id": "2a8918be-d4d7-4120-93ad-5fccd5dcb0ef",
   "metadata": {},
   "outputs": [],
   "source": [
    "chunk_size = 1000\n",
    "chunk = []\n",
    "processed_data_thres = 5000\n",
    "processed_data_count = 0\n",
    "\n",
    "for message_data in consume_messages():\n",
    "    if message_data is None:\n",
    "        break\n",
    "    processed_data_count += 1\n",
    "    chunk.append(message_data)\n",
    "\n",
    "    if len(chunk) == chunk_size:\n",
    "        chunk_df = pd.DataFrame(chunk, columns=cols_eqr)\n",
    "        data_df = pd.concat([data_df, chunk_df], ignore_index=True)\n",
    "        chunk = []\n",
    "    \n",
    "    if processed_data_count % processed_data_thres == 0:\n",
    "        logger.info(f\"Received events: {processed_data_count}\")\n"
   ]
  },
  {
   "cell_type": "code",
   "execution_count": null,
   "id": "39161804-918d-4429-a831-ea2fd9dc2229",
   "metadata": {},
   "outputs": [],
   "source": [
    "# add rest of chunk\n",
    "chunk_df = pd.DataFrame(chunk, columns=cols_eqr)\n",
    "data_df = pd.concat([data_df, chunk_df], ignore_index=True)\n"
   ]
  },
  {
   "cell_type": "code",
   "execution_count": null,
   "id": "e5a36ac8-398b-4381-a6a6-33c3f4ec18c0",
   "metadata": {},
   "outputs": [],
   "source": [
    "data_df.shape\n"
   ]
  },
  {
   "cell_type": "code",
   "execution_count": null,
   "id": "2f2f6fb9-e0a4-4f6f-98ec-c500b75e756f",
   "metadata": {},
   "outputs": [],
   "source": [
    "data_df.tail().T\n"
   ]
  },
  {
   "cell_type": "markdown",
   "id": "bfb20fbe-fadc-460c-a80b-fd38c60e6d56",
   "metadata": {},
   "source": [
    "# Data quality analysis"
   ]
  },
  {
   "cell_type": "code",
   "execution_count": null,
   "id": "1ef8663d-02bc-4deb-8927-282c179fd096",
   "metadata": {},
   "outputs": [],
   "source": [
    "data_df['countryCode'] = data_df['monitoringSiteIdentifier'].str.extract(r'^([A-Za-z]{2})')\n"
   ]
  },
  {
   "cell_type": "markdown",
   "id": "fd7e43dd-428c-4775-b233-a7c1a63d2a87",
   "metadata": {},
   "source": [
    "## share of columns with missing data"
   ]
  },
  {
   "cell_type": "code",
   "execution_count": null,
   "id": "0ee9e4f5-1497-4e77-876e-7ca759935194",
   "metadata": {},
   "outputs": [],
   "source": [
    "null_percentage = (data_df.isnull().sum() / len(data_df)) * 100\n",
    "null_percentage\n"
   ]
  },
  {
   "cell_type": "code",
   "execution_count": null,
   "id": "27324338-844f-49c7-b569-ab98fcaf69dd",
   "metadata": {},
   "outputs": [],
   "source": [
    "plt.figure(figsize=(10, 6))\n",
    "plt.bar(null_percentage.index, null_percentage.values, color='skyblue')\n",
    "plt.xlabel('Columns')\n",
    "plt.ylabel('Percentage of Null Values')\n",
    "plt.title('Percentage of Null Values in Each Column')\n",
    "plt.xticks(rotation=90)\n",
    "plt.grid(axis='y', linestyle='--', alpha=0.7)\n"
   ]
  },
  {
   "cell_type": "markdown",
   "id": "4eade4da-2bf7-4544-8adf-de9826f0a78e",
   "metadata": {},
   "source": [
    "## water data quality"
   ]
  },
  {
   "cell_type": "code",
   "execution_count": null,
   "id": "316d6a96-ce43-40ba-9c93-24259821f83d",
   "metadata": {},
   "outputs": [],
   "source": [
    "data_df[\"resultQualityNumberOfSamplesBelowLOQ\"].fillna(0, inplace=True)\n"
   ]
  },
  {
   "cell_type": "code",
   "execution_count": null,
   "id": "1fbcc5b8-22e1-4758-9475-f411dc7be694",
   "metadata": {},
   "outputs": [],
   "source": [
    "def calculate_aboveLOQ_share(df: pd.DataFrame, numerator_col: str, denominator_col: str, group_by_cols: List[str]):\n",
    "    grouped = df.groupby(group_by_cols)\n",
    "    result = 1 - grouped[numerator_col].sum() / grouped[denominator_col].sum()\n",
    "    result = result.reset_index()\n",
    "    result = result.rename(columns={0: 'aboveLOQ_share_result'})\n",
    "    return result\n"
   ]
  },
  {
   "cell_type": "code",
   "execution_count": null,
   "id": "083df600-447f-437d-be1b-c97ec0c89b22",
   "metadata": {},
   "outputs": [],
   "source": [
    "def plot_share_bar_chart(grouped_data, group_by_cols, share_col):\n",
    "    grouped_data = grouped_data.sort_values(share_col, ascending=False)\n",
    "    \n",
    "    plt.figure(figsize=(10, 6))\n",
    "    plt.bar(grouped_data.index, grouped_data[share_col], color='skyblue')\n",
    "    plt.xlabel(', '.join(group_by_cols))\n",
    "    plt.ylabel(f'Share of {share_col}')\n",
    "    plt.title(f'Share of {share_col} by {\", \".join(group_by_cols)}')\n",
    "    plt.xticks(grouped_data.index, grouped_data[group_by_cols].apply(lambda x: ', '.join(map(str, x)), axis=1), rotation=90)\n",
    "    plt.grid(axis='y', linestyle='--', alpha=0.7)\n",
    "\n",
    "    plt.show()\n"
   ]
  },
  {
   "cell_type": "code",
   "execution_count": null,
   "id": "4aafff1a-f32f-493f-961c-65639d6dd9b2",
   "metadata": {},
   "outputs": [],
   "source": [
    "df_aboveLOQ_share_by_countryCode = calculate_aboveLOQ_share(data_df, 'resultQualityNumberOfSamplesBelowLOQ', 'resultNumberOfSamples', ['countryCode'])\n",
    "plot_share_bar_chart(df_aboveLOQ_share_by_countryCode, ['countryCode'], 'aboveLOQ_share_result')\n"
   ]
  },
  {
   "cell_type": "code",
   "execution_count": null,
   "id": "73e82163-2b2e-4244-bf4c-0dea234d0208",
   "metadata": {},
   "outputs": [],
   "source": [
    "df_aboveLOQ_share_by_year = calculate_aboveLOQ_share(data_df, 'resultQualityNumberOfSamplesBelowLOQ', 'resultNumberOfSamples', ['phenomenonTimeReferenceYear'])\n",
    "df_aboveLOQ_share_by_year.dropna(inplace=True)\n",
    "plot_share_bar_chart(df_aboveLOQ_share_by_year, ['phenomenonTimeReferenceYear'], 'aboveLOQ_share_result')\n"
   ]
  },
  {
   "cell_type": "code",
   "execution_count": null,
   "id": "b56b1c5e-a516-48bb-9be9-30939acd1908",
   "metadata": {},
   "outputs": [],
   "source": [
    "df_aboveLOQ_share_by_water_body_category = calculate_aboveLOQ_share(data_df, 'resultQualityNumberOfSamplesBelowLOQ', 'resultNumberOfSamples', ['parameterWaterBodyCategory'])\n",
    "plot_share_bar_chart(df_aboveLOQ_share_by_water_body_category, ['parameterWaterBodyCategory'], 'aboveLOQ_share_result')\n"
   ]
  },
  {
   "cell_type": "code",
   "execution_count": null,
   "id": "a49d8d90-8380-4c45-82dd-fc66a1c1cab7",
   "metadata": {},
   "outputs": [],
   "source": [
    "df_aboveLOQ_share_by_monitoring_site = calculate_aboveLOQ_share(data_df, 'resultQualityNumberOfSamplesBelowLOQ', 'resultNumberOfSamples', ['monitoringSiteIdentifierScheme'])\n",
    "plot_share_bar_chart(df_aboveLOQ_share_by_monitoring_site, ['monitoringSiteIdentifierScheme'], 'aboveLOQ_share_result')\n"
   ]
  },
  {
   "cell_type": "markdown",
   "id": "625643a4-c685-4b9b-aaf7-970b2ef3c080",
   "metadata": {},
   "source": [
    "## save to parquet"
   ]
  },
  {
   "cell_type": "code",
   "execution_count": null,
   "id": "27abd1f7-e90a-429f-bd84-ad230f24fe43",
   "metadata": {},
   "outputs": [],
   "source": [
    "data_df.to_parquet('data_df.parquet')\n"
   ]
  }
 ],
 "metadata": {
  "kernelspec": {
   "display_name": "Python 3 (ipykernel)",
   "language": "python",
   "name": "python3"
  },
  "language_info": {
   "codemirror_mode": {
    "name": "ipython",
    "version": 3
   },
   "file_extension": ".py",
   "mimetype": "text/x-python",
   "name": "python",
   "nbconvert_exporter": "python",
   "pygments_lexer": "ipython3",
   "version": "3.11.6"
  }
 },
 "nbformat": 4,
 "nbformat_minor": 5
}
